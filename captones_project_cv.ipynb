{
  "nbformat": 4,
  "nbformat_minor": 0,
  "metadata": {
    "colab": {
      "provenance": []
    },
    "kernelspec": {
      "name": "python3",
      "display_name": "Python 3"
    },
    "language_info": {
      "name": "python"
    }
  },
  "cells": [
    {
      "cell_type": "markdown",
      "source": [
        "# **Capstone Project Computer Vision**\n",
        "\n",
        "# Finger Detection and counting"
      ],
      "metadata": {
        "id": "_FpFysx-cpVc"
      }
    },
    {
      "cell_type": "markdown",
      "source": [
        "# Import Libraries"
      ],
      "metadata": {
        "id": "_nZs6_02cvVC"
      }
    },
    {
      "cell_type": "code",
      "execution_count": 19,
      "metadata": {
        "id": "0IaWPAphapJX"
      },
      "outputs": [],
      "source": [
        "import cv2\n",
        "import numpy as np\n",
        "import matplotlib.pyplot as plt\n",
        "# Được dùng cho việc tính toán khoảng cách.\n",
        "from sklearn.metrics import pairwise"
      ]
    },
    {
      "cell_type": "markdown",
      "source": [
        "# **Global Variables**\n",
        "Chúng ta sẽ sử dụng các biến global này sau này"
      ],
      "metadata": {
        "id": "RNbEq_1HeGa5"
      }
    },
    {
      "cell_type": "code",
      "source": [
        "#  Biến nền này sẽ là một biến toàn cầu mà chúng ta sẽ cập nhật thông qua một số hàm.\n",
        "background = None\n",
        "\n",
        "#  Bắt đầu với một giá trị trung gian nằm giữa 0 và 1 của trọng số tích lũy.\n",
        "accumulated_weight = 0.5\n",
        "\n",
        "# Thiết lập g vùng quan tâm (ROI) để nắm bắt tay.\n",
        "roi_top = 20\n",
        "roi_bottom = 300\n",
        "roi_right = 300\n",
        "roi_left = 600"
      ],
      "metadata": {
        "id": "kzOk4owQdPg8"
      },
      "execution_count": 20,
      "outputs": []
    },
    {
      "cell_type": "markdown",
      "source": [
        "## **Finding Average Background Value**"
      ],
      "metadata": {
        "id": "b7EloFbkf-t0"
      }
    },
    {
      "cell_type": "code",
      "source": [
        "def calc_accum_avg(frame, accumulated_weight):\n",
        "  \"\"\"\n",
        "  Với một frame và một accumulated_weight trước đó, tính giá trị trung bình(weighted average) có trọng số của hình ảnh được truyền vào.\n",
        "  \"\"\"\n",
        "\n",
        "  # Lấy nền background\n",
        "  global background\n",
        "\n",
        "  # Trước tiên tạo nền background cho bản sao của khung hình\n",
        "  if background is None:\n",
        "    background = frame.copy().astype(\"float\")\n",
        "    return None\n",
        "  # Tính giá trị trung bình tích luỹ và cập nhật nền\n",
        "  cv2.accumulateWeighted(frame, background, accumulated_weight)"
      ],
      "metadata": {
        "id": "f-5Bjl6Qfo9Z"
      },
      "execution_count": 21,
      "outputs": []
    },
    {
      "cell_type": "markdown",
      "source": [
        "# **Segment the Hand Region in Frame**"
      ],
      "metadata": {
        "id": "h6Q7W6gqlx1Y"
      }
    },
    {
      "cell_type": "code",
      "source": [
        "def segment(frame, threshold=25):\n",
        "\n",
        "  global background\n",
        "\n",
        "  # Tính toán Độ Khác Biệt Tuyệt Đối giữa nền và khung hình được truyền vào\n",
        "  diff = cv2.absdiff(background.astype(\"uint8\"), frame)\n",
        "\n",
        "  # Áp dụng ngưỡng cho hình ảnh để chúng ta có thể nắm bắt phần trước cảnh\n",
        "  # Chúng ta chỉ cần giá trị thresholded, vì vậy chúng ta sẽ loại bỏ mục đầu tiên trong bộ tổ hợp với dấu gạch dưới \"_\"\n",
        "  _ , thresholded = cv2.threshold(diff, threshold, 255, cv2.THRESH_BINARY)\n",
        "\n",
        "  # Lấy các đường viền ngoại cảnh từ hình ảnh\n",
        "  # Một lần nữa, chúng ta chỉ lấy những gì chúng ta cần ở đây và loại bỏ phần còn lại\n",
        "  contours, hierarchy = cv2.findContours(thresholded.copy(), cv2.RETR_EXTERNAL, cv2.CHAIN_APPROX_SIMPLE)\n",
        "\n",
        "  # Nếu độ dài danh sách đường viền là 0, thì chúng ta sẽ không lấy bất kỳ đường viền nào!\n",
        "  if len(contours) == 0:\n",
        "    return None\n",
        "  else:\n",
        "    # Đường viền ngoại cảnh lớn nhất là bàn tay (lớn nhất về diện tích)\n",
        "    # Đây sẽ là phân đoạn của chúng ta\n",
        "    hand_segment = max(contours, key = cv2.contourArea)\n",
        "\n",
        "    # Trả về phân đoạn bàn tay và hình ảnh bàn tay đã ngưỡng hoá được\n",
        "    return (thresholded, hand_segment)"
      ],
      "metadata": {
        "id": "9rrxWoArl3JV"
      },
      "execution_count": 22,
      "outputs": []
    },
    {
      "cell_type": "code",
      "source": [
        "\n",
        "def count_fingers(thresholded, hand_segment):\n",
        "\n",
        "  # Tính toán Convex Hull của hand_segment(phân đoạn của bàn tay)\n",
        "  conv_hull = cv2.convexHull(hand_segment)\n",
        "\n",
        "  # Bây giờ Convex Hull sẽ có ít nhất 4 điểm ngoài cùng, ở trên, dưới, trái và phải.\n",
        "  # Ví dụ conv_hull nó sẽ trả về dạng như này: [[[234 202]], [[ 51 202]], [[ 51 79]], [[234 79]]]\n",
        "\n",
        "  # Tìm điểm trên, dưới, trái và phải.\n",
        "  # Sau đó đảm bảo rằng chúng ở định dạng tuple\n",
        "  top    = tuple(conv_hull[conv_hull[:, :, 1].argmin()][0])\n",
        "  bottom = tuple(conv_hull[conv_hull[:, :, 1].argmin()][0])\n",
        "  left   = tuple(conv_hull[conv_hull[:, :, 0].argmin()][0])\n",
        "  right  = tuple(conv_hull[conv_hull[:, :, 0].argmin()][0])\n",
        "\n",
        "  # Theo lý thuyết, tâm của bàn tay nằm ở giữa đỉnh và đáy cũng như ở giữa trái và phải\n",
        "  cX = (left[0] + right[0]) // 2  # Lấy toạ độ x của trái cộng phải rồi chia cho 2 lấy phần nguyên\n",
        "  cY = (top[1] + bottom[1]) // 2  # Lấy toạ độ y của trên cộng dưới rồi chia cho 2 lấy phần nguyên\n",
        "\n",
        "  # Tìm khoảng cách Euclidean lớn nhất giữa tâm của lòng bàn tay\n",
        "  # và các điểm cực đại trên Convex Hull\n",
        "\n",
        "  #Tính toán khoảng cách Euclidean giữa tâm của bàn tay và các điểm bên trái, bên phải, đỉnh và đáy.\n",
        "  distance = pairwise.euclidean_distances([(cX,cY)], Y=[left,right,top,bottom])[0]\n",
        "\n",
        "  #Lấy khoảng cách lớn nhất\n",
        "  max_distance = distance.max()\n",
        "\n",
        "  # Tạo một vòng tròn với bán kính là 90% của khoảng cách Euclidean lớn nhất này.\n",
        "  radius = int(0.8 * max_distance)\n",
        "  # Tính chu vi của vòng tròn này\n",
        "  circumference = (2 * np.pi * radius)\n",
        "\n",
        "  # Không lấy vùng quan tâm (ROI) chỉ trong hình tròn\n",
        "  circular_roi = np.zeros(thresholded.shape[:2], dtype=\"uint8\")\n",
        "\n",
        "  # Vẽ hình tròn quanh vùng quan tâm\n",
        "  cv2.circle(circular_roi, (cX, cY), radius, 255, 10)\n",
        "\n",
        "  # Sử dụng phép bitwise AND với hình tròn quan tâm làm mặt nạ.\n",
        "  # Điều này trả về phần được cắt bằng cách sử dụng mặt nạ trên hình ảnh ngưỡng của bàn tay.\n",
        "  circular_roi = cv2.bitwise_and(thresholded, thresholded, mask=circular_roi)\n",
        "\n",
        "  # Lấy các đường viền trong vùng tròn quan tâm\n",
        "  contours, hierarchy = cv2.findContours(circular_roi.copy(), cv2.RETR_EXTERNAL, cv2.CHAIN_APPROX_NONE)\n",
        "\n",
        "  # Đếm ngón tay bắt đầu từ 0\n",
        "  count = 0\n",
        "\n",
        "  # Duyệt qua các đường viền để xem có thể đếm thêm ngón tay nào không.\n",
        "  for cnt in contours:\n",
        "    # Hình chữ nhật bao quanh đường viền\n",
        "    (x, y, w, h) = cv2.boundingRect(cnt)\n",
        "\n",
        "    # Tăng số lượng ngón tay dựa trên hai điều kiện:\n",
        "\n",
        "    # 1. Vùng đường viền không nằm ở phía dưới cùng của vùng bàn tay (cổ tay)\n",
        "    out_of_wrist = ((cY + (cY * 0.25)) > (y + h))\n",
        "\n",
        "    # 2. Số điểm dọc theo đường viền không vượt quá 25% chu vi của vùng tròn quan tâm (nếu không, chúng ta đang đếm điểm nằm ngoài bàn tay)\n",
        "    limit_points = ((circumference * 0.25) > cnt.shape[0])\n",
        "\n",
        "    if out_of_wrist and limit_points:\n",
        "      count += 1\n",
        "  return count"
      ],
      "metadata": {
        "id": "GJ2FFkhiz8Zs"
      },
      "execution_count": 23,
      "outputs": []
    },
    {
      "cell_type": "markdown",
      "source": [
        "# **Run Project**"
      ],
      "metadata": {
        "id": "eSh6PoxsFyvp"
      }
    },
    {
      "cell_type": "code",
      "source": [
        "# Mở kết nối với camera\n",
        "cam = cv2.VideoCapture(1)\n",
        "\n",
        "# Khởi tạo biến đếm số khung hình\n",
        "num_frames = 0\n",
        "\n",
        "# Lặp vô tận cho đến khi người dùng thoát khỏi chương trình\n",
        "while True:\n",
        "  # Lấy khung hình hiện tại\n",
        "  ret, frame = cam.read()\n",
        "\n",
        "  # Lật khung hình để không hiển thị hình ảnh đối xứng\n",
        "  frame = cv2.flip(frame, 1)\n",
        "\n",
        "  # Sao chép khung hình\n",
        "  frame_copy = frame.copy()\n",
        "\n",
        "  # Lấy vùng quan tâm (ROI) từ khung hình\n",
        "  roi = frame[roi_top:roi_bottom, roi_right:roi_left]\n",
        "\n",
        "  # Áp dụng chế độ xám và làm mờ cho ROI\n",
        "  gray = cv2.cvtColor(roi, cv2.COLOR_BGR2GRAY)\n",
        "  gray = cv2.GaussianBlur(gray, (7,7), 0)\n",
        "\n",
        "  # Trong 30 khung hình đầu tiên, chúng ta sẽ tính trung bình của nền.\n",
        "  # Chúng ta sẽ thông báo cho người dùng khi đang thực hiện việc này\n",
        "  if num_frames < 60:\n",
        "    calc_accum_avg(gray, accumulated_weight)\n",
        "    if num_frames <= 59:\n",
        "      cv2.putText(frame_copy, \"Vui lòng chờ, đang lấy nền trung bình.\", (200, 400), cv2.FONT_HERSHEY_SIMPLEX, 1, (0,0,255), 2)\n",
        "      cv2.imshow(\"Finger Count\",frame_copy)\n",
        "  else:\n",
        "\n",
        "    # Bây giờ chúng ta đã có nền, chúng ta có thể phân đoạn bàn tay.\n",
        "\n",
        "    # Phân đoạn vùng bàn tay\n",
        "    hand = segment(gray)\n",
        "\n",
        "    # Kiểm tra trước tiên xem chúng ta có thể phát hiện một bàn tay không\n",
        "    if hand is not None:\n",
        "\n",
        "      # Giải nén\n",
        "      thresholded, hand_segment = hand\n",
        "\n",
        "      # Vẽ đường viền xung quanh phần bàn tay\n",
        "      cv2.drawContours(frame_copy, [hand_segment + (roi_right, roi_top)], -1, (255,0,0), 1)\n",
        "\n",
        "      # Đếm số ngón tay\n",
        "      fingers = count_fingers(thresholded, hand_segment)\n",
        "\n",
        "      # Hiển thị số lượng ngón tay\n",
        "      cv2.putText(frame_copy, str(fingers), (70,45), cv2.FONT_HERSHEY_SIMPLEX, 1, (0,0,255), 2)\n",
        "\n",
        "      # Hiển thị cả hình ảnh được ngưỡng\n",
        "      cv2.imshow(\"Thresholded\", thresholded)\n",
        "\n",
        "  # Vẽ hình chữ nhật ROI trên bản sao khung hình\n",
        "  cv2.rectangle(frame_copy, (roi_left, roi_top), (roi_right, roi_bottom), (0,0,255),5)\n",
        "\n",
        "  # Tăng số khung hình để theo dõi\n",
        "  num_frames += 1\n",
        "\n",
        "  # Hiển thị khung hình với bàn tay được phân đoạn\n",
        "  cv2.imshow(\"Finger Count\", frame_copy)\n",
        "\n",
        "  # Đóng cửa sổ bằng cách nhấn Esc\n",
        "  k = cv2.waitKey(1) & 0xFF\n",
        "\n",
        "  if k == 27:\n",
        "    break\n",
        "\n",
        "# Giải phóng camera và đóng tất cả cửa sổ\n",
        "cam.release()\n",
        "cv2.destroyAllWindows()"
      ],
      "metadata": {
        "id": "UGehtRMvFunt"
      },
      "execution_count": null,
      "outputs": []
    },
    {
      "cell_type": "code",
      "source": [],
      "metadata": {
        "id": "yt72Mi-oOtPw"
      },
      "execution_count": null,
      "outputs": []
    }
  ]
}